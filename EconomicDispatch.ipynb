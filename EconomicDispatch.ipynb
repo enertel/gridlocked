{
 "cells": [
  {
   "cell_type": "markdown",
   "id": "4b8c8ada",
   "metadata": {},
   "source": [
    "## Economic Dispatch"
   ]
  },
  {
   "cell_type": "markdown",
   "id": "50a101d6",
   "metadata": {},
   "source": [
    "Economic dispatch is a classic problem in power systems operation, where a system operator is interested in minimizing the operating costs subject to some set of physical constraints on the units. Here we use the most basic example where units have stable operating regions between their minimum power output, $p_{min}$, and their maximum power output, $p_{max}$. We also use $f_i(p_i)$ to represent the operating cost of a generating unit. The collective power output of all generating units must be capable of satisfy the total demand the system, $d$."
   ]
  },
  {
   "cell_type": "markdown",
   "id": "f57f6b8d",
   "metadata": {},
   "source": [
    "$$\\min \\sum \\limits _{i} f_i(p_i)$$\n",
    "\n",
    "$$s.t. \\sum \\limits _{i}p_i = d$$\n",
    "\n",
    "$$p_{min} \\le p_i \\le p_{max}$$"
   ]
  },
  {
   "cell_type": "markdown",
   "id": "7a83c822",
   "metadata": {},
   "source": [
    "Cost functions $f_i(p_i)$ are usually represented as quadratic functions of the form:\n",
    "$$f_i(p_i) = \\frac{a_i}{2}p_i^2 + b_ip_i + c_i$$\n",
    "\n",
    "where $a_k$, $b_k$, $c_k$ are fit from data. Let's see how we can solve this using Python."
   ]
  },
  {
   "cell_type": "code",
   "execution_count": 112,
   "id": "a351be56",
   "metadata": {},
   "outputs": [],
   "source": [
    "import numpy as np\n",
    "import cvxpy as cvx\n",
    "import pandas as pd\n",
    "import matplotlib.pyplot as plt\n",
    "from typing import List\n",
    "\n",
    "import warnings\n",
    "warnings.filterwarnings('ignore')"
   ]
  },
  {
   "cell_type": "markdown",
   "id": "0e0774bb",
   "metadata": {},
   "source": [
    "## Problem Setup:\n",
    "Suppose we have a system consisting of six units, with attributes described below, and a total instantaneous load of 1200 MW. For simplicity, we've set the constants $c_k$ to zero."
   ]
  },
  {
   "cell_type": "code",
   "execution_count": 113,
   "id": "a10d0448",
   "metadata": {},
   "outputs": [
    {
     "data": {
      "text/html": [
       "<div>\n",
       "<style scoped>\n",
       "    .dataframe tbody tr th:only-of-type {\n",
       "        vertical-align: middle;\n",
       "    }\n",
       "\n",
       "    .dataframe tbody tr th {\n",
       "        vertical-align: top;\n",
       "    }\n",
       "\n",
       "    .dataframe thead th {\n",
       "        text-align: right;\n",
       "    }\n",
       "</style>\n",
       "<table border=\"1\" class=\"dataframe\">\n",
       "  <thead>\n",
       "    <tr style=\"text-align: right;\">\n",
       "      <th></th>\n",
       "      <th>unit</th>\n",
       "      <th>pmin</th>\n",
       "      <th>pmax</th>\n",
       "      <th>a</th>\n",
       "      <th>b</th>\n",
       "      <th>c</th>\n",
       "    </tr>\n",
       "  </thead>\n",
       "  <tbody>\n",
       "    <tr>\n",
       "      <th>0</th>\n",
       "      <td>1</td>\n",
       "      <td>10</td>\n",
       "      <td>125</td>\n",
       "      <td>0.305</td>\n",
       "      <td>35.539</td>\n",
       "      <td>0</td>\n",
       "    </tr>\n",
       "    <tr>\n",
       "      <th>1</th>\n",
       "      <td>2</td>\n",
       "      <td>10</td>\n",
       "      <td>150</td>\n",
       "      <td>0.212</td>\n",
       "      <td>46.160</td>\n",
       "      <td>0</td>\n",
       "    </tr>\n",
       "    <tr>\n",
       "      <th>2</th>\n",
       "      <td>3</td>\n",
       "      <td>35</td>\n",
       "      <td>210</td>\n",
       "      <td>0.071</td>\n",
       "      <td>38.308</td>\n",
       "      <td>0</td>\n",
       "    </tr>\n",
       "    <tr>\n",
       "      <th>3</th>\n",
       "      <td>4</td>\n",
       "      <td>35</td>\n",
       "      <td>225</td>\n",
       "      <td>0.057</td>\n",
       "      <td>40.397</td>\n",
       "      <td>0</td>\n",
       "    </tr>\n",
       "    <tr>\n",
       "      <th>4</th>\n",
       "      <td>5</td>\n",
       "      <td>125</td>\n",
       "      <td>315</td>\n",
       "      <td>0.036</td>\n",
       "      <td>38.270</td>\n",
       "      <td>0</td>\n",
       "    </tr>\n",
       "    <tr>\n",
       "      <th>5</th>\n",
       "      <td>6</td>\n",
       "      <td>130</td>\n",
       "      <td>325</td>\n",
       "      <td>0.042</td>\n",
       "      <td>36.328</td>\n",
       "      <td>0</td>\n",
       "    </tr>\n",
       "  </tbody>\n",
       "</table>\n",
       "</div>"
      ],
      "text/plain": [
       "  unit  pmin  pmax      a       b  c\n",
       "0    1    10   125  0.305  35.539  0\n",
       "1    2    10   150  0.212  46.160  0\n",
       "2    3    35   210  0.071  38.308  0\n",
       "3    4    35   225  0.057  40.397  0\n",
       "4    5   125   315  0.036  38.270  0\n",
       "5    6   130   325  0.042  36.328  0"
      ]
     },
     "execution_count": 113,
     "metadata": {},
     "output_type": "execute_result"
    }
   ],
   "source": [
    "df = pd.DataFrame(\n",
    "    {\n",
    "        \"unit\": [\"1\", \"2\", \"3\", \"4\", \"5\", \"6\"],\n",
    "        \"pmin\": [10, 10, 35, 35, 125, 130],\n",
    "        \"pmax\": [125, 150, 210, 225, 315, 325],\n",
    "        \"a\": [0.305, 0.212, 0.071, 0.057, 0.036, 0.042],\n",
    "        \"b\": [35.539, 46.160, 38.308, 40.397, 38.270, 36.328],\n",
    "        \"c\": [0, 0, 0, 0, 0, 0]\n",
    "    }\n",
    ")\n",
    "df"
   ]
  },
  {
   "cell_type": "markdown",
   "id": "e8031c15",
   "metadata": {},
   "source": [
    "We're interested in finding the optimal set points for each generating unit, which we designate here as the vector $p$. We also set the demand $d$ to 1,200 MW."
   ]
  },
  {
   "cell_type": "code",
   "execution_count": 114,
   "id": "7fa5a52b",
   "metadata": {},
   "outputs": [],
   "source": [
    "p = cvx.Variable(len(df))\n",
    "d = 1200"
   ]
  },
  {
   "cell_type": "markdown",
   "id": "259b55ad",
   "metadata": {},
   "source": [
    "Next we build the objective function, the constraints, and instantiate the model. Finally, we solve the problem."
   ]
  },
  {
   "cell_type": "code",
   "execution_count": 115,
   "id": "2b42afce",
   "metadata": {},
   "outputs": [
    {
     "name": "stdout",
     "output_type": "stream",
     "text": [
      "Successfully solved the economic dispatch problem!\n"
     ]
    }
   ],
   "source": [
    "objective = cvx.Minimize(1/2 * cvx.quad_form(p, np.diag(df.a.values)) + df.b.values * p + df.c.values)\n",
    "constraints = [sum(p) >= d, p >= df.pmin.values, p <= df.pmax.values]\n",
    "model = cvx.Problem(objective, constraints)\n",
    "model.solve()\n",
    "print('Successfully solved the economic dispatch problem!')"
   ]
  },
  {
   "cell_type": "code",
   "execution_count": 116,
   "id": "2f771c4f",
   "metadata": {},
   "outputs": [],
   "source": [
    "df['dispatch'] = p.value\n",
    "df['loading'] = df.dispatch / df.pmax * 100"
   ]
  },
  {
   "cell_type": "code",
   "execution_count": 117,
   "id": "870c1507",
   "metadata": {},
   "outputs": [
    {
     "data": {
      "image/png": "[encoded data removed]",
      "text/plain": [
       "<Figure size 432x288 with 1 Axes>"
      ]
     },
     "metadata": {
      "needs_background": "light"
     },
     "output_type": "display_data"
    }
   ],
   "source": [
    "df.plot.bar(x='unit', y='loading', legend=None)\n",
    "plt.xticks(rotation=0)\n",
    "plt.xlabel(\"Generating Unit\")\n",
    "plt.ylabel(\"Percent Loading (%)\")\n",
    "plt.axhline(y=100, color='r', linestyle='--')\n",
    "plt.suptitle(f'Total System Cost: ${round(objective.value, 2)}')\n",
    "plt.title(f'Marginal cost: ${round(float(constraints[0].dual_value), 2)}/MWh')\n",
    "plt.show()"
   ]
  }
 ],
 "metadata": {
  "kernelspec": {
   "display_name": "gridlocked",
   "language": "python",
   "name": "gridlocked"
  },
  "language_info": {
   "codemirror_mode": {
    "name": "ipython",
    "version": 3
   },
   "file_extension": ".py",
   "mimetype": "text/x-python",
   "name": "python",
   "nbconvert_exporter": "python",
   "pygments_lexer": "ipython3",
   "version": "3.8.3"
  },
  "latex_envs": {
   "LaTeX_envs_menu_present": true,
   "autoclose": false,
   "autocomplete": true,
   "bibliofile": "biblio.bib",
   "cite_by": "apalike",
   "current_citInitial": 1,
   "eqLabelWithNumbers": true,
   "eqNumInitial": 1,
   "hotkeys": {
    "equation": "Ctrl-E",
    "itemize": "Ctrl-I"
   },
   "labels_anchors": false,
   "latex_user_defs": false,
   "report_style_numbering": false,
   "user_envs_cfg": false
  }
 },
 "nbformat": 4,
 "nbformat_minor": 5
}
