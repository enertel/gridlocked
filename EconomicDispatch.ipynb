{
 "cells": [
  {
   "cell_type": "markdown",
   "id": "4b8c8ada",
   "metadata": {},
   "source": [
    "## Economic Dispatch"
   ]
  },
  {
   "cell_type": "markdown",
   "id": "50a101d6",
   "metadata": {},
   "source": [
    "Economic dispatch is a classic problem in power systems operation, where a system operator is interested in minimizing the operating costs subject to some set of physical constraints on the units. Here we use the most basic example where units have stable operating regions between their minimum power output, $p_{min}$, and their maximum power output, $p_{max}$. We also use $f_i(p_i)$ to represent the operating cost of a generating unit. The collective power output of all generating units must be capable of satisfy the total demand the system, $d$."
   ]
  },
  {
   "cell_type": "markdown",
   "id": "f57f6b8d",
   "metadata": {},
   "source": [
    "$$\\min \\sum \\limits _{i}^{N} f_i(p_i)$$\n",
    "\n",
    "$$s.t. \\sum \\limits _{i}^{N}p_i = d$$\n",
    "\n",
    "$$p_{min} \\le p_i \\le p_{max}, \\hspace{0.1cm} \\forall i \\in N $$"
   ]
  },
  {
   "cell_type": "markdown",
   "id": "7a83c822",
   "metadata": {},
   "source": [
    "Cost functions $f_i(p_i)$ are usually represented as quadratic functions of the form:\n",
    "$$f_i(p_i) = \\frac{a_i}{2}p_i^2 + b_ip_i + c_i$$\n",
    "\n",
    "where $a_k$, $b_k$, $c_k$ are fit from data. Let's see how we can solve this using Python."
   ]
  },
  {
   "cell_type": "code",
   "execution_count": 1,
   "id": "a351be56",
   "metadata": {},
   "outputs": [],
   "source": [
    "import numpy as np\n",
    "import cvxpy as cvx\n",
    "import pandas as pd\n",
    "import matplotlib.pyplot as plt\n",
    "from typing import List\n",
    "\n",
    "import warnings\n",
    "warnings.filterwarnings('ignore')"
   ]
  },
  {
   "cell_type": "markdown",
   "id": "0e0774bb",
   "metadata": {},
   "source": [
    "## Problem Setup:\n",
    "Suppose we have a system consisting of six units, with attributes described below, and a total instantaneous load of 1200 MW. For simplicity, we've set the constants $c_k$ to zero."
   ]
  },
  {
   "cell_type": "code",
   "execution_count": 2,
   "id": "a10d0448",
   "metadata": {},
   "outputs": [
    {
     "data": {
      "text/html": [
       "<div>\n",
       "<style scoped>\n",
       "    .dataframe tbody tr th:only-of-type {\n",
       "        vertical-align: middle;\n",
       "    }\n",
       "\n",
       "    .dataframe tbody tr th {\n",
       "        vertical-align: top;\n",
       "    }\n",
       "\n",
       "    .dataframe thead th {\n",
       "        text-align: right;\n",
       "    }\n",
       "</style>\n",
       "<table border=\"1\" class=\"dataframe\">\n",
       "  <thead>\n",
       "    <tr style=\"text-align: right;\">\n",
       "      <th></th>\n",
       "      <th>number</th>\n",
       "      <th>pmin</th>\n",
       "      <th>pmax</th>\n",
       "      <th>a</th>\n",
       "      <th>b</th>\n",
       "      <th>c</th>\n",
       "      <th>alpha</th>\n",
       "      <th>beta</th>\n",
       "    </tr>\n",
       "  </thead>\n",
       "  <tbody>\n",
       "    <tr>\n",
       "      <th>0</th>\n",
       "      <td>1</td>\n",
       "      <td>10</td>\n",
       "      <td>125</td>\n",
       "      <td>0.305</td>\n",
       "      <td>35.539</td>\n",
       "      <td>0</td>\n",
       "      <td>0.0084</td>\n",
       "      <td>0.328</td>\n",
       "    </tr>\n",
       "    <tr>\n",
       "      <th>1</th>\n",
       "      <td>2</td>\n",
       "      <td>10</td>\n",
       "      <td>150</td>\n",
       "      <td>0.212</td>\n",
       "      <td>46.160</td>\n",
       "      <td>0</td>\n",
       "      <td>0.0084</td>\n",
       "      <td>0.328</td>\n",
       "    </tr>\n",
       "    <tr>\n",
       "      <th>2</th>\n",
       "      <td>3</td>\n",
       "      <td>35</td>\n",
       "      <td>210</td>\n",
       "      <td>0.071</td>\n",
       "      <td>38.308</td>\n",
       "      <td>0</td>\n",
       "      <td>0.0136</td>\n",
       "      <td>-0.545</td>\n",
       "    </tr>\n",
       "    <tr>\n",
       "      <th>3</th>\n",
       "      <td>4</td>\n",
       "      <td>35</td>\n",
       "      <td>225</td>\n",
       "      <td>0.057</td>\n",
       "      <td>40.397</td>\n",
       "      <td>0</td>\n",
       "      <td>0.0136</td>\n",
       "      <td>-0.545</td>\n",
       "    </tr>\n",
       "    <tr>\n",
       "      <th>4</th>\n",
       "      <td>5</td>\n",
       "      <td>125</td>\n",
       "      <td>315</td>\n",
       "      <td>0.036</td>\n",
       "      <td>38.270</td>\n",
       "      <td>0</td>\n",
       "      <td>0.0092</td>\n",
       "      <td>-0.511</td>\n",
       "    </tr>\n",
       "    <tr>\n",
       "      <th>5</th>\n",
       "      <td>6</td>\n",
       "      <td>130</td>\n",
       "      <td>325</td>\n",
       "      <td>0.042</td>\n",
       "      <td>36.328</td>\n",
       "      <td>0</td>\n",
       "      <td>0.0092</td>\n",
       "      <td>-0.511</td>\n",
       "    </tr>\n",
       "  </tbody>\n",
       "</table>\n",
       "</div>"
      ],
      "text/plain": [
       "  number  pmin  pmax      a       b  c   alpha   beta\n",
       "0      1    10   125  0.305  35.539  0  0.0084  0.328\n",
       "1      2    10   150  0.212  46.160  0  0.0084  0.328\n",
       "2      3    35   210  0.071  38.308  0  0.0136 -0.545\n",
       "3      4    35   225  0.057  40.397  0  0.0136 -0.545\n",
       "4      5   125   315  0.036  38.270  0  0.0092 -0.511\n",
       "5      6   130   325  0.042  36.328  0  0.0092 -0.511"
      ]
     },
     "execution_count": 2,
     "metadata": {},
     "output_type": "execute_result"
    }
   ],
   "source": [
    "units = pd.DataFrame(\n",
    "    {\n",
    "        \"number\": [\"1\", \"2\", \"3\", \"4\", \"5\", \"6\"],\n",
    "        \"pmin\": [10, 10, 35, 35, 125, 130],\n",
    "        \"pmax\": [125, 150, 210, 225, 315, 325],\n",
    "        \"a\": [0.305, 0.212, 0.071, 0.057, 0.036, 0.042],\n",
    "        \"b\": [35.539, 46.160, 38.308, 40.397, 38.270, 36.328],\n",
    "        \"c\": [0, 0, 0, 0, 0, 0],\n",
    "        \"alpha\": [0.0084, 0.0084, 0.0136, 0.0136, 0.0092, 0.0092],\n",
    "        \"beta\": [0.328, 0.328, -0.545, -0.545, -0.511, -0.511]\n",
    "    }\n",
    ")\n",
    "units"
   ]
  },
  {
   "cell_type": "markdown",
   "id": "e8031c15",
   "metadata": {},
   "source": [
    "We're interested in finding the optimal set points for each generating unit, which we designate here as the vector $p$. We also set the demand $d$ to 1,200 MW."
   ]
  },
  {
   "cell_type": "code",
   "execution_count": 3,
   "id": "7fa5a52b",
   "metadata": {},
   "outputs": [],
   "source": [
    "p = cvx.Variable(len(units))\n",
    "d = 1200"
   ]
  },
  {
   "cell_type": "markdown",
   "id": "259b55ad",
   "metadata": {},
   "source": [
    "Next we build the objective function, the constraints, and instantiate the model. Finally, we solve the problem."
   ]
  },
  {
   "cell_type": "code",
   "execution_count": 4,
   "id": "2b42afce",
   "metadata": {},
   "outputs": [
    {
     "name": "stdout",
     "output_type": "stream",
     "text": [
      "Successfully solved the economic dispatch problem!\n"
     ]
    }
   ],
   "source": [
    "objective = cvx.Minimize(1/2 * cvx.quad_form(p, np.diag(units.a.values)) + units.b.values * p + units.c.values)\n",
    "constraints = [sum(p) >= d, p >= units.pmin.values, p <= units.pmax.values]\n",
    "model = cvx.Problem(objective, constraints)\n",
    "model.solve()\n",
    "print('Successfully solved the economic dispatch problem!')"
   ]
  },
  {
   "cell_type": "code",
   "execution_count": 5,
   "id": "2f771c4f",
   "metadata": {},
   "outputs": [],
   "source": [
    "units['dispatch'] = p.value\n",
    "units['loading'] = units.dispatch / units.pmax * 100"
   ]
  },
  {
   "cell_type": "code",
   "execution_count": 6,
   "id": "870c1507",
   "metadata": {},
   "outputs": [
    {
     "data": {
      "image/png": "[encoded data removed]",
      "text/plain": [
       "<Figure size 432x288 with 1 Axes>"
      ]
     },
     "metadata": {
      "needs_background": "light"
     },
     "output_type": "display_data"
    }
   ],
   "source": [
    "units.plot.bar(x='number', y='loading', legend=None)\n",
    "plt.xticks(rotation=0)\n",
    "plt.xlabel(\"Generating Unit\")\n",
    "plt.ylabel(\"Percent Loading (%)\")\n",
    "plt.axhline(y=100, color='r', linestyle='--')\n",
    "plt.suptitle(f'Total System Cost: ${round(objective.value, 2)}')\n",
    "plt.title(f'Marginal cost: ${round(float(constraints[0].dual_value), 2)}/MWh')\n",
    "plt.show()"
   ]
  },
  {
   "cell_type": "markdown",
   "metadata": {},
   "source": [
    "## Environmental Dispatch\n",
    "* Tradeoff between economic and environmental dispatch"
   ]
  },
  {
   "cell_type": "code",
   "execution_count": 9,
   "metadata": {},
   "outputs": [
    {
     "data": {
      "text/plain": [
       "Text(0, 0.5, 'Environmental')"
      ]
     },
     "execution_count": 9,
     "metadata": {},
     "output_type": "execute_result"
    },
    {
     "data": {
      "image/png": "[encoded data removed]",
      "text/plain": [
       "<Figure size 432x288 with 1 Axes>"
      ]
     },
     "metadata": {
      "needs_background": "light"
     },
     "output_type": "display_data"
    }
   ],
   "source": [
    "def pareto(xi):\n",
    "    p = cvx.Variable(6)\n",
    "    f_ecn = 1/2 * cvx.quad_form(p, np.diag(units.a.values)) + units.b.values @ p\n",
    "    f_env = 1/2 * cvx.quad_form(p, np.diag(units.alpha.values)) + units.beta.values @ p\n",
    "    fo = cvx.Minimize(xi * f_ecn + (1-xi) * f_env)\n",
    "    res = [sum(p) >= d, p>=units.pmin.values, p<=units.pmax.values]\n",
    "    model = cvx.Problem(fo, res)\n",
    "    model.solve()\n",
    "    return [f_ecn.value, f_env.value]\n",
    "\n",
    "points = 10\n",
    "F_ecn = np.zeros(points)\n",
    "F_env = np.zeros(points)\n",
    "for k in range(points):\n",
    "    xi = 1 / (k+1)\n",
    "    F_ecn[k], F_env[k] = pareto(xi)\n",
    "\n",
    "plt.plot(F_ecn, F_env, marker='o')\n",
    "plt.grid()\n",
    "plt.xlabel('Economic ')\n",
    "plt.ylabel('Environmental')"
   ]
  },
  {
   "cell_type": "markdown",
   "metadata": {},
   "source": [
    "## Economic Dispatch + Basic Transportation Model"
   ]
  },
  {
   "cell_type": "code",
   "execution_count": 11,
   "metadata": {},
   "outputs": [
    {
     "data": {
      "text/plain": [
       "54101.78523029992"
      ]
     },
     "execution_count": 11,
     "metadata": {},
     "output_type": "execute_result"
    }
   ],
   "source": [
    "ng = 6  # number of generators\n",
    "nl = 9  # number of lines\n",
    "nn = 6  # number of nodes\n",
    "p = cvx.Variable(len(units))\n",
    "d = [0, 800, 0, 0, 400, 0]  # demand at each node\n",
    "Lambda = (0, 0, 2, 2, 3, 5) # generator locations\n",
    "Omega = ((0, 1), (0, 1), (0, 3), (0, 4), (1, 2), (1, 5), (2, 5), (3, 4), (4, 5)) # lines\n",
    "smax = nl * [300]   # max flow of each line\n",
    "\n",
    "s = cvx.Variable(nl)    # power flows\n",
    "\n",
    "EqB = nn * [0]  # balances\n",
    "\n",
    "for j, omega in enumerate(Omega):\n",
    "    k, m = omega\n",
    "    EqB[k] += s[j]  # flow leaving from k\n",
    "    EqB[m] += -s[j] # flow arriving to k\n",
    "\n",
    "for k, gennode in enumerate(Lambda):\n",
    "    EqB[gennode] += -p[k]\n",
    "\n",
    "res = [p >= units.pmin.values, p <= units.pmax.values, s <= smax, -s <= smax]\n",
    "\n",
    "for k in range(nn):\n",
    "    res += [EqB[k] + d[k] == 0]\n",
    "\n",
    "obj = 1/2 * cvx.quad_form(p, np.diag(units.a.values)) + units.b.values * p\n",
    "model = cvx.Problem(cvx.Minimize(obj), res)\n",
    "model.solve()"
   ]
  },
  {
   "cell_type": "markdown",
   "metadata": {},
   "source": [
    "## Linearized Power Flow"
   ]
  },
  {
   "cell_type": "code",
   "execution_count": 26,
   "metadata": {},
   "outputs": [
    {
     "data": {
      "text/plain": [
       "54762.709585048426"
      ]
     },
     "execution_count": 26,
     "metadata": {},
     "output_type": "execute_result"
    }
   ],
   "source": [
    "ng = 6  # number of generators\n",
    "nl = 9  # number of lines\n",
    "nn = 6  # number of nodes\n",
    "p = cvx.Variable(len(units))\n",
    "d = [0, 800, 0, 0, 400, 0]  # demand at each node\n",
    "Lambda = (0, 0, 2, 2, 3, 5) # generator locations\n",
    "Omega = ((0, 1), (0, 1), (0, 3), (0, 4), (1, 2), (1, 5), (2, 5), (3, 4), (4, 5)) # lines\n",
    "smax = nl * [300]   # max flow of each line\n",
    "\n",
    "s = cvx.Variable(nl)    # power flows\n",
    "\n",
    "EqB = nn * [0]  # balances\n",
    "\n",
    "for j, omega in enumerate(Omega):\n",
    "    k, m = omega\n",
    "    EqB[k] += s[j]  # flow leaving from k\n",
    "    EqB[m] += -s[j] # flow arriving to k\n",
    "\n",
    "for k, gennode in enumerate(Lambda):\n",
    "    EqB[gennode] += -p[k]\n",
    "\n",
    "res = [p >= units.pmin.values, p <= units.pmax.values, s <= smax, -s <= smax]\n",
    "\n",
    "for k in range(nn):\n",
    "    res += [EqB[k] + d[k] == 0]\n",
    "\n",
    "snom = 100\n",
    "x = nl * [0.02]\n",
    "th = cvx.Variable(nn)   # nodal angles\n",
    "res += [th[0] == 0]     # angle reference\n",
    "\n",
    "for j, omega in enumerate(Omega):\n",
    "    k, m = omega\n",
    "    res += [x[j] * s[j] == snom*(th[k] - th[m])]\n",
    "\n",
    "\n",
    "obj = 1/2 * cvx.quad_form(p, np.diag(units.a.values)) + units.b.values * p\n",
    "model = cvx.Problem(cvx.Minimize(obj), res)\n",
    "model.solve()"
   ]
  },
  {
   "cell_type": "markdown",
   "metadata": {},
   "source": [
    "## Unit Commitment"
   ]
  },
  {
   "cell_type": "code",
   "execution_count": 13,
   "metadata": {},
   "outputs": [],
   "source": [
    "df = pd.DataFrame(\n",
    "    {\n",
    "        \"a\": [0.0004984, 0.001246, 0.00623],\n",
    "        \"b\": [16.821, 40.620, 21.93],\n",
    "        \"c\": [220.42, 161.86, 171.20],\n",
    "        \"c_up\": [124.69, 249.22, 0],\n",
    "        \"z_ini\": [1, 1, 0],\n",
    "        \"pmax\": [220, 100, 20],\n",
    "        \"pmin\": [100, 10, 10]\n",
    "    }\n",
    ")\n",
    "\n",
    "d = np.array([178, 168, 161, 157, 158, 163, 176, \n",
    "194, 209, 221, 233, 240, 247, 248, 253, 260, 261, 251, 250, 242, 242, 231, 205, 200])"
   ]
  },
  {
   "cell_type": "code",
   "execution_count": 25,
   "metadata": {},
   "outputs": [
    {
     "ename": "SolverError",
     "evalue": "Either candidate conic solvers (['GLPK_MI']) do not support the cones output by the problem (SOC, NonNeg, Zero), or there are not enough constraints in the problem.",
     "output_type": "error",
     "traceback": [
      "\u001b[0;31m---------------------------------------------------------------------------\u001b[0m",
      "\u001b[0;31mSolverError\u001b[0m                               Traceback (most recent call last)",
      "Input \u001b[0;32mIn [25]\u001b[0m, in \u001b[0;36m<module>\u001b[0;34m\u001b[0m\n\u001b[1;32m     30\u001b[0m obj \u001b[38;5;241m=\u001b[39m cvx\u001b[38;5;241m.\u001b[39mMinimize(fop \u001b[38;5;241m+\u001b[39m fsup)\n\u001b[1;32m     31\u001b[0m model \u001b[38;5;241m=\u001b[39m cvx\u001b[38;5;241m.\u001b[39mProblem(obj, res)\n\u001b[0;32m---> 32\u001b[0m \u001b[43mmodel\u001b[49m\u001b[38;5;241;43m.\u001b[39;49m\u001b[43msolve\u001b[49m\u001b[43m(\u001b[49m\u001b[43m)\u001b[49m\n",
      "File \u001b[0;32m~/Library/Caches/pypoetry/virtualenvs/gridlocked-MScpDvPn-py3.8/lib/python3.8/site-packages/cvxpy/problems/problem.py:473\u001b[0m, in \u001b[0;36mProblem.solve\u001b[0;34m(self, *args, **kwargs)\u001b[0m\n\u001b[1;32m    471\u001b[0m \u001b[38;5;28;01melse\u001b[39;00m:\n\u001b[1;32m    472\u001b[0m     solve_func \u001b[38;5;241m=\u001b[39m Problem\u001b[38;5;241m.\u001b[39m_solve\n\u001b[0;32m--> 473\u001b[0m \u001b[38;5;28;01mreturn\u001b[39;00m \u001b[43msolve_func\u001b[49m\u001b[43m(\u001b[49m\u001b[38;5;28;43mself\u001b[39;49m\u001b[43m,\u001b[49m\u001b[43m \u001b[49m\u001b[38;5;241;43m*\u001b[39;49m\u001b[43margs\u001b[49m\u001b[43m,\u001b[49m\u001b[43m \u001b[49m\u001b[38;5;241;43m*\u001b[39;49m\u001b[38;5;241;43m*\u001b[39;49m\u001b[43mkwargs\u001b[49m\u001b[43m)\u001b[49m\n",
      "File \u001b[0;32m~/Library/Caches/pypoetry/virtualenvs/gridlocked-MScpDvPn-py3.8/lib/python3.8/site-packages/cvxpy/problems/problem.py:966\u001b[0m, in \u001b[0;36mProblem._solve\u001b[0;34m(self, solver, warm_start, verbose, gp, qcp, requires_grad, enforce_dpp, **kwargs)\u001b[0m\n\u001b[1;32m    963\u001b[0m         \u001b[38;5;28mself\u001b[39m\u001b[38;5;241m.\u001b[39munpack(chain\u001b[38;5;241m.\u001b[39mretrieve(soln))\n\u001b[1;32m    964\u001b[0m         \u001b[38;5;28;01mreturn\u001b[39;00m \u001b[38;5;28mself\u001b[39m\u001b[38;5;241m.\u001b[39mvalue\n\u001b[0;32m--> 966\u001b[0m data, solving_chain, inverse_data \u001b[38;5;241m=\u001b[39m \u001b[38;5;28;43mself\u001b[39;49m\u001b[38;5;241;43m.\u001b[39;49m\u001b[43mget_problem_data\u001b[49m\u001b[43m(\u001b[49m\n\u001b[1;32m    967\u001b[0m \u001b[43m    \u001b[49m\u001b[43msolver\u001b[49m\u001b[43m,\u001b[49m\u001b[43m \u001b[49m\u001b[43mgp\u001b[49m\u001b[43m,\u001b[49m\u001b[43m \u001b[49m\u001b[43menforce_dpp\u001b[49m\u001b[43m,\u001b[49m\u001b[43m \u001b[49m\u001b[43mverbose\u001b[49m\u001b[43m)\u001b[49m\n\u001b[1;32m    969\u001b[0m \u001b[38;5;28;01mif\u001b[39;00m verbose:\n\u001b[1;32m    970\u001b[0m     \u001b[38;5;28mprint\u001b[39m(_NUM_SOLVER_STR)\n",
      "File \u001b[0;32m~/Library/Caches/pypoetry/virtualenvs/gridlocked-MScpDvPn-py3.8/lib/python3.8/site-packages/cvxpy/problems/problem.py:581\u001b[0m, in \u001b[0;36mProblem.get_problem_data\u001b[0;34m(self, solver, gp, enforce_dpp, verbose)\u001b[0m\n\u001b[1;32m    579\u001b[0m \u001b[38;5;28;01mif\u001b[39;00m key \u001b[38;5;241m!=\u001b[39m \u001b[38;5;28mself\u001b[39m\u001b[38;5;241m.\u001b[39m_cache\u001b[38;5;241m.\u001b[39mkey:\n\u001b[1;32m    580\u001b[0m     \u001b[38;5;28mself\u001b[39m\u001b[38;5;241m.\u001b[39m_cache\u001b[38;5;241m.\u001b[39minvalidate()\n\u001b[0;32m--> 581\u001b[0m     solving_chain \u001b[38;5;241m=\u001b[39m \u001b[38;5;28;43mself\u001b[39;49m\u001b[38;5;241;43m.\u001b[39;49m\u001b[43m_construct_chain\u001b[49m\u001b[43m(\u001b[49m\n\u001b[1;32m    582\u001b[0m \u001b[43m        \u001b[49m\u001b[43msolver\u001b[49m\u001b[38;5;241;43m=\u001b[39;49m\u001b[43msolver\u001b[49m\u001b[43m,\u001b[49m\u001b[43m \u001b[49m\u001b[43mgp\u001b[49m\u001b[38;5;241;43m=\u001b[39;49m\u001b[43mgp\u001b[49m\u001b[43m,\u001b[49m\u001b[43m \u001b[49m\u001b[43menforce_dpp\u001b[49m\u001b[38;5;241;43m=\u001b[39;49m\u001b[43menforce_dpp\u001b[49m\u001b[43m)\u001b[49m\n\u001b[1;32m    583\u001b[0m     \u001b[38;5;28mself\u001b[39m\u001b[38;5;241m.\u001b[39m_cache\u001b[38;5;241m.\u001b[39mkey \u001b[38;5;241m=\u001b[39m key\n\u001b[1;32m    584\u001b[0m     \u001b[38;5;28mself\u001b[39m\u001b[38;5;241m.\u001b[39m_cache\u001b[38;5;241m.\u001b[39msolving_chain \u001b[38;5;241m=\u001b[39m solving_chain\n",
      "File \u001b[0;32m~/Library/Caches/pypoetry/virtualenvs/gridlocked-MScpDvPn-py3.8/lib/python3.8/site-packages/cvxpy/problems/problem.py:809\u001b[0m, in \u001b[0;36mProblem._construct_chain\u001b[0;34m(self, solver, gp, enforce_dpp)\u001b[0m\n\u001b[1;32m    807\u001b[0m candidate_solvers \u001b[38;5;241m=\u001b[39m \u001b[38;5;28mself\u001b[39m\u001b[38;5;241m.\u001b[39m_find_candidate_solvers(solver\u001b[38;5;241m=\u001b[39msolver, gp\u001b[38;5;241m=\u001b[39mgp)\n\u001b[1;32m    808\u001b[0m \u001b[38;5;28mself\u001b[39m\u001b[38;5;241m.\u001b[39m_sort_candidate_solvers(candidate_solvers)\n\u001b[0;32m--> 809\u001b[0m \u001b[38;5;28;01mreturn\u001b[39;00m \u001b[43mconstruct_solving_chain\u001b[49m\u001b[43m(\u001b[49m\u001b[38;5;28;43mself\u001b[39;49m\u001b[43m,\u001b[49m\u001b[43m \u001b[49m\u001b[43mcandidate_solvers\u001b[49m\u001b[43m,\u001b[49m\u001b[43m \u001b[49m\u001b[43mgp\u001b[49m\u001b[38;5;241;43m=\u001b[39;49m\u001b[43mgp\u001b[49m\u001b[43m,\u001b[49m\n\u001b[1;32m    810\u001b[0m \u001b[43m                               \u001b[49m\u001b[43menforce_dpp\u001b[49m\u001b[38;5;241;43m=\u001b[39;49m\u001b[43menforce_dpp\u001b[49m\u001b[43m)\u001b[49m\n",
      "File \u001b[0;32m~/Library/Caches/pypoetry/virtualenvs/gridlocked-MScpDvPn-py3.8/lib/python3.8/site-packages/cvxpy/reductions/solvers/solving_chain.py:241\u001b[0m, in \u001b[0;36mconstruct_solving_chain\u001b[0;34m(problem, candidates, gp, enforce_dpp)\u001b[0m\n\u001b[1;32m    238\u001b[0m         reductions \u001b[38;5;241m+\u001b[39m\u001b[38;5;241m=\u001b[39m [ConeMatrixStuffing(), solver_instance]\n\u001b[1;32m    239\u001b[0m         \u001b[38;5;28;01mreturn\u001b[39;00m SolvingChain(reductions\u001b[38;5;241m=\u001b[39mreductions)\n\u001b[0;32m--> 241\u001b[0m \u001b[38;5;28;01mraise\u001b[39;00m SolverError(\u001b[38;5;124m\"\u001b[39m\u001b[38;5;124mEither candidate conic solvers (\u001b[39m\u001b[38;5;132;01m%s\u001b[39;00m\u001b[38;5;124m) do not support the \u001b[39m\u001b[38;5;124m\"\u001b[39m\n\u001b[1;32m    242\u001b[0m                   \u001b[38;5;124m\"\u001b[39m\u001b[38;5;124mcones output by the problem (\u001b[39m\u001b[38;5;132;01m%s\u001b[39;00m\u001b[38;5;124m), or there are not \u001b[39m\u001b[38;5;124m\"\u001b[39m\n\u001b[1;32m    243\u001b[0m                   \u001b[38;5;124m\"\u001b[39m\u001b[38;5;124menough constraints in the problem.\u001b[39m\u001b[38;5;124m\"\u001b[39m \u001b[38;5;241m%\u001b[39m (\n\u001b[1;32m    244\u001b[0m                       candidates[\u001b[38;5;124m'\u001b[39m\u001b[38;5;124mconic_solvers\u001b[39m\u001b[38;5;124m'\u001b[39m],\n\u001b[1;32m    245\u001b[0m                       \u001b[38;5;124m\"\u001b[39m\u001b[38;5;124m, \u001b[39m\u001b[38;5;124m\"\u001b[39m\u001b[38;5;241m.\u001b[39mjoin([cone\u001b[38;5;241m.\u001b[39m\u001b[38;5;18m__name__\u001b[39m \u001b[38;5;28;01mfor\u001b[39;00m cone \u001b[38;5;129;01min\u001b[39;00m cones])))\n",
      "\u001b[0;31mSolverError\u001b[0m: Either candidate conic solvers (['GLPK_MI']) do not support the cones output by the problem (SOC, NonNeg, Zero), or there are not enough constraints in the problem."
     ]
    }
   ],
   "source": [
    "T = len(d)\n",
    "n = len(df.a)\n",
    "zeta = cvx.Variable((n, T), boolean=True)\n",
    "mu = cvx.Variable((n, T), boolean=True)\n",
    "delta = cvx.Variable((n, T), boolean=True)\n",
    "p = cvx.Variable((n,T))\n",
    "\n",
    "fop = 0\n",
    "fsup  = 0\n",
    "res = []\n",
    "for t in range(T):\n",
    "    for k in range(n):\n",
    "        fop = fop + df.a[k] * p[k, t]**2 + df.b[k] + p[k, t] + df.c[k] + zeta[k, t]\n",
    "        fsup = fsup + df.c_up[k] * mu[k, t]\n",
    "        res += [p[k, t] >= df.pmin[k] * zeta[k, t]]\n",
    "        res += [p[k, t] <= df.pmax[k] * zeta[k, t]]\n",
    "\n",
    "for t in range(T):\n",
    "    res += [cvx.sum(p[:,t]) == d[t]]\n",
    "\n",
    "for t in range(1, T):\n",
    "    for k in range(n):\n",
    "        res += [mu[k, t] - delta[k, t] == zeta[k, t] - zeta[k, t-1]]\n",
    "        res += [mu[k, t] + delta[k, t] <= 1]\n",
    "\n",
    "for k in range(n):\n",
    "    res += [mu[k, 0] - delta[k, 0] == zeta[k, 0] - df.z_ini[k]]\n",
    "    res += [mu[k, 0] + delta[k, 0] <= 1]\n",
    "\n",
    "obj = cvx.Minimize(fop + fsup)\n",
    "model = cvx.Problem(obj, res)\n",
    "model.solve()"
   ]
  },
  {
   "cell_type": "code",
   "execution_count": 32,
   "metadata": {},
   "outputs": [
    {
     "data": {
      "text/plain": [
       "43267.19999806679"
      ]
     },
     "execution_count": 32,
     "metadata": {},
     "output_type": "execute_result"
    }
   ],
   "source": [
    "d = (137, 139, 136, 129, 129, 141, 165, 200, 224, 232, 223, 231, 223, 220, 213, 207, 213, 214, 224, 228, 224, 212, 185, 159)\n",
    "\n",
    "a = (10, 9, 8, 7, 7, 7, 8, 9, 10, 10, 10, 9, 8, 8, 8, 8, 8, 9, 9, 9, 9, 9, 9, 9)\n",
    "\n",
    "pH = cvx.Variable(24)   # power hydro unit\n",
    "pT = cvx.Variable(24)   # power thermal unit\n",
    "q = cvx.Variable(24)    # water discharge\n",
    "s = cvx.Variable(24)    # spillage\n",
    "v = cvx.Variable(25)    # volume\n",
    "\n",
    "cost = 0\n",
    "\n",
    "res = [v[0] == 150, v[24] == 80]\n",
    "\n",
    "for t in range(24):\n",
    "    cost = cost + 19.2 * pT[t]\n",
    "    res += [pH[t] == 8.5 * q[t]]\n",
    "    res += [pH[t] + pT[t] == d[t]]\n",
    "    res += [80 <= v[t], v[t] <= 150]\n",
    "    res += [0 <= pT[t], pT[t] <= 250]\n",
    "    res += [0 <= pH[t], pH[t] <= 150]\n",
    "    res += [s[t] >= 0]\n",
    "    res += [v[t+1] == v[t] + a[t] - s[t] -q[t]]\n",
    "\n",
    "model = cvx.Problem(cvx.Minimize(cost), res)\n",
    "model.solve()"
   ]
  },
  {
   "cell_type": "markdown",
   "metadata": {},
   "source": [
    "## Solar + Storage + Thermal + Grid Purchase"
   ]
  },
  {
   "cell_type": "code",
   "execution_count": 52,
   "metadata": {},
   "outputs": [
    {
     "data": {
      "text/plain": [
       "448.3"
      ]
     },
     "execution_count": 52,
     "metadata": {},
     "output_type": "execute_result"
    },
    {
     "name": "stdout",
     "output_type": "stream",
     "text": [
      "Long-step dual simplex will be used\n"
     ]
    }
   ],
   "source": [
    "pS = [0, 0, 0, 0, 0, 0, 0, 26, 50, 71, 87, 97, 100, 97, 87, 71, 50, 26, 0, 0, 0, 0, 0, 0] # solar forecast\n",
    "c = [0.4, 0.4, 0.4, 0.4, 0.4, 0.5, 0.6, 0.6, 0.6, 0.5, 0.5, 0.4, 0.4, 0.4, 0.5, 0.5, 0.6, 0.9, 1.1, 1.1, 1.0, 0.8, 0.7, 0.5]    # price forecast\n",
    "\n",
    "vup = cvx.Variable(25, nonneg=True)     # upper reservoir volume\n",
    "vdw = cvx.Variable(25, nonneg=True)     # lower reservoir volume\n",
    "pgen = cvx.Variable(24, nonneg=True)    # generation mode for pumped hydro\n",
    "ppmp = cvx.Variable(24, nonneg=True)    # storage mode for pumped hydro\n",
    "pthm = cvx.Variable(24, nonneg=True)    # thermal power plant\n",
    "\n",
    "q = cvx.Variable(24)    # outflow for pumped hydro\n",
    "p = cvx.Variable(24)    # net trade to grid\n",
    "x = cvx.Variable(24, boolean=True)    # storage or generation mode for pumped hydro\n",
    "f = 0   # initial cost\n",
    "res = [vup[0] == 0, vdw[0] == 120]  # initial conditions\n",
    "\n",
    "for t in range(24):\n",
    "    f = f + c[t] * p[t] - 0.95 * pthm[t]    # obj function\n",
    "    res += [vup[t] <= 120, vdw[t] <= 120]   # max storage in MWh\n",
    "    res += [pgen[t] - 0.8 * ppmp[t] == q[t]]    # pumped hydro efficiency\n",
    "    res += [pgen[t] - ppmp[t] + pS[t] + pthm[t] == p[t]]   # total power\n",
    "    res += [pgen[t] <= 30 * x[t], ppmp[t] <= 30 * (1-x[t])]      # max power output of pumped hydro\n",
    "    res += [vup[t+1] == vup[t] - q[t]]  # time link for upper reservoir\n",
    "    res += [vdw[t+1] == vdw[t] + q[t]]  # time link for lower reservoir\n",
    "    res += [pthm[t] <= 10]  # max thermal capacity\n",
    "\n",
    "model = cvx.Problem(cvx.Maximize(f), res)\n",
    "model.solve()\n",
    "\n"
   ]
  }
 ],
 "metadata": {
  "interpreter": {
   "hash": "efbf9e3651e3f987f154415ea205168855f13188bbc73090d2a71dda8b877e83"
  },
  "kernelspec": {
   "display_name": "Python 3.8.3 64-bit ('gridlocked-MScpDvPn-py3.8': poetry)",
   "name": "python3"
  },
  "language_info": {
   "codemirror_mode": {
    "name": "ipython",
    "version": 3
   },
   "file_extension": ".py",
   "mimetype": "text/x-python",
   "name": "python",
   "nbconvert_exporter": "python",
   "pygments_lexer": "ipython3",
   "version": "3.8.3"
  },
  "latex_envs": {
   "LaTeX_envs_menu_present": true,
   "autoclose": false,
   "autocomplete": true,
   "bibliofile": "biblio.bib",
   "cite_by": "apalike",
   "current_citInitial": 1,
   "eqLabelWithNumbers": true,
   "eqNumInitial": 1,
   "hotkeys": {
    "equation": "Ctrl-E",
    "itemize": "Ctrl-I"
   },
   "labels_anchors": false,
   "latex_user_defs": false,
   "report_style_numbering": false,
   "user_envs_cfg": false
  }
 },
 "nbformat": 4,
 "nbformat_minor": 5
}
